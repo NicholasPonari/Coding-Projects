{
 "cells": [
  {
   "cell_type": "markdown",
   "metadata": {
    "id": "I6-drCVkjmvn"
   },
   "source": [
    "I import pandas so I can read the CSVs into dataframes"
   ]
  },
  {
   "cell_type": "code",
   "execution_count": 1,
   "metadata": {
    "id": "EvHeVLoOezV6"
   },
   "outputs": [],
   "source": [
    "import pandas as pd\n",
    "import numpy as np"
   ]
  },
  {
   "cell_type": "markdown",
   "metadata": {
    "id": "PnYz8StKj0Ic"
   },
   "source": [
    "I have pandas convert my csv's into dataframes"
   ]
  },
  {
   "cell_type": "code",
   "execution_count": 2,
   "metadata": {
    "colab": {
     "base_uri": "https://localhost:8080/"
    },
    "id": "mMpACSZsaTOY",
    "outputId": "f6466206-8b67-4608-f041-22bda4d8ef4c"
   },
   "outputs": [
    {
     "name": "stdout",
     "output_type": "stream",
     "text": [
      "(887059, 16) (864499, 16) (58069, 5) (135493, 6)\n"
     ]
    }
   ],
   "source": [
    "invoice_test = pd.read_csv('invoice_test.csv', low_memory=False)\n",
    "invoice_train = pd.read_csv('invoice_train.csv', low_memory=False)\n",
    "client_test = pd.read_csv('client_test.csv', low_memory=False)\n",
    "client_train = pd.read_csv('client_train.csv', low_memory=False)\n",
    "sample_submission = pd.read_csv('SampleSubmission.csv', low_memory=False)\n",
    "\n",
    "print(invoice_test.shape, invoice_train.shape, client_test.shape, client_train.shape)"
   ]
  },
  {
   "cell_type": "code",
   "execution_count": 3,
   "metadata": {
    "scrolled": true
   },
   "outputs": [
    {
     "name": "stdout",
     "output_type": "stream",
     "text": [
      "<class 'pandas.core.frame.DataFrame'>\n",
      "RangeIndex: 135493 entries, 0 to 135492\n",
      "Data columns (total 6 columns):\n",
      " #   Column         Non-Null Count   Dtype  \n",
      "---  ------         --------------   -----  \n",
      " 0   disrict        135493 non-null  int64  \n",
      " 1   client_id      135493 non-null  object \n",
      " 2   client_catg    135493 non-null  int64  \n",
      " 3   region         135493 non-null  int64  \n",
      " 4   creation_date  135493 non-null  object \n",
      " 5   target         135493 non-null  float64\n",
      "dtypes: float64(1), int64(3), object(2)\n",
      "memory usage: 6.2+ MB\n"
     ]
    }
   ],
   "source": [
    "client_train.info()"
   ]
  },
  {
   "cell_type": "code",
   "execution_count": 4,
   "metadata": {},
   "outputs": [],
   "source": [
    "def feature_change(cl, inv):\n",
    "\n",
    "    cl['client_catg'] = cl['client_catg'].astype('category')\n",
    "    cl['disrict'] = cl['disrict'].astype('category')\n",
    "    cl['region'] = cl['region'].astype('category')\n",
    "    cl['region_group'] = cl['region'].apply(lambda x: 100 if x<100 else 300 if x>300 else 200)\n",
    "    cl['creation_date'] = pd.to_datetime(cl['creation_date'])\n",
    "    \n",
    "    cl['coop_time'] = (2019 - cl['creation_date'].dt.year)*12 - cl['creation_date'].dt.month\n",
    "\n",
    "    inv['counter_type'] = inv['counter_type'].map({\"ELEC\":1,\"GAZ\":0})\n",
    "    inv['counter_statue'] = inv['counter_statue'].map({0:0,1:1,2:2,3:3,4:4,5:5,769:5,'0':0,'5':5,'1':1,'4':4,'A':0,618:5,269375:5,46:5,420:5})\n",
    "    \n",
    "    inv['invoice_date'] = pd.to_datetime(inv['invoice_date'], dayfirst=True)\n",
    "    inv['invoice_month'] = inv['invoice_date'].dt.month\n",
    "    inv['invoice_year'] = inv['invoice_date'].dt.year\n",
    "    inv['is_weekday'] = ((pd.DatetimeIndex(inv.invoice_date).dayofweek) // 5 == 1).astype(float)\n",
    "    inv['delta_index'] = inv['new_index'] - inv['old_index']\n",
    "    \n",
    "    return cl, inv"
   ]
  },
  {
   "cell_type": "code",
   "execution_count": 5,
   "metadata": {
    "scrolled": true
   },
   "outputs": [
    {
     "name": "stderr",
     "output_type": "stream",
     "text": [
      "C:\\Users\\Nick_\\AppData\\Local\\Temp\\ipykernel_161172\\2795683553.py:7: UserWarning: Parsing dates in DD/MM/YYYY format when dayfirst=False (the default) was specified. This may lead to inconsistently parsed dates! Specify a format to ensure consistent parsing.\n",
      "  cl['creation_date'] = pd.to_datetime(cl['creation_date'])\n",
      "C:\\Users\\Nick_\\AppData\\Local\\Temp\\ipykernel_161172\\2795683553.py:7: UserWarning: Parsing dates in DD/MM/YYYY format when dayfirst=False (the default) was specified. This may lead to inconsistently parsed dates! Specify a format to ensure consistent parsing.\n",
      "  cl['creation_date'] = pd.to_datetime(cl['creation_date'])\n"
     ]
    }
   ],
   "source": [
    "client_train1, invoice_train1 = feature_change(client_train, invoice_train)\n",
    "client_test1, invoice_test1 = feature_change(client_test, invoice_test)"
   ]
  },
  {
   "cell_type": "code",
   "execution_count": 6,
   "metadata": {},
   "outputs": [],
   "source": [
    "def agg_feature(invoice, client_df, agg_stat):\n",
    "    \n",
    "    invoice['delta_time'] = invoice.sort_values(['client_id','invoice_date']).groupby('client_id')['invoice_date'].diff().dt.days.reset_index(drop=True)\n",
    "    agg_trans = invoice.groupby('client_id')[agg_stat+['delta_time']].agg(['mean','std','min','max'])\n",
    "    \n",
    "    agg_trans.columns = ['_'.join(col).strip() for col in agg_trans.columns.values]\n",
    "    agg_trans.reset_index(inplace=True)\n",
    "\n",
    "    df = invoice.groupby('client_id').size().reset_index(name='transactions_count')\n",
    "    agg_trans = pd.merge(df, agg_trans, on='client_id', how='left')\n",
    "    \n",
    "    weekday_avg = invoice.groupby('client_id')[['is_weekday']].agg(['mean'])\n",
    "    weekday_avg.columns = ['_'.join(col).strip() for col in weekday_avg.columns.values]\n",
    "    weekday_avg.reset_index(inplace=True)\n",
    "    client_df = pd.merge(client_df, weekday_avg, on='client_id', how='left')\n",
    "    \n",
    "    full_df = pd.merge(client_df, agg_trans, on='client_id', how='left')\n",
    "    \n",
    "    full_df['invoice_per_cooperation'] = full_df['transactions_count'] / full_df['coop_time']\n",
    "    \n",
    "    return full_df"
   ]
  },
  {
   "cell_type": "code",
   "execution_count": 7,
   "metadata": {},
   "outputs": [],
   "source": [
    "aggs = {}\n",
    "aggs['consommation_level_1'] = ['mean']\n",
    "aggs['consommation_level_2'] = ['mean']\n",
    "aggs['consommation_level_3'] = ['mean']\n",
    "aggs['consommation_level_4'] = ['mean']\n",
    "agg_trans = invoice_train.groupby(['client_id', 'counter_type']).agg(aggs)\n",
    "agg_trans.columns = ['_'.join(col).strip() for col in agg_trans.columns.values]\n",
    "agg_trans.reset_index(inplace=True)\n",
    "\n",
    "agg_trans1 = agg_trans\n",
    "\n",
    "aggs = {}\n",
    "aggs['consommation_level_1_mean'] = ['mean']\n",
    "aggs['consommation_level_2_mean'] = ['mean']\n",
    "aggs['consommation_level_3_mean'] = ['mean']\n",
    "aggs['consommation_level_4_mean'] = ['mean']\n",
    "agg_trans = agg_trans1.groupby(['client_id']).agg(aggs)\n",
    "agg_trans.columns = ['_'.join(col).strip() for col in agg_trans.columns.values]\n",
    "agg_trans.reset_index(inplace=True)\n",
    "\n",
    "df = (invoice_train.groupby('client_id')\n",
    "          .size()\n",
    "          .reset_index(name='{}transactions_count'.format('1')))\n",
    "agg_trans = pd.merge(df, agg_trans, on='client_id', how='left')"
   ]
  },
  {
   "cell_type": "code",
   "execution_count": 8,
   "metadata": {},
   "outputs": [],
   "source": [
    "agg_stat_columns = [\n",
    " 'tarif_type',\n",
    " 'counter_number',\n",
    " 'counter_statue',\n",
    " 'counter_code',\n",
    " 'reading_remarque',\n",
    " 'consommation_level_1',\n",
    " 'consommation_level_2',\n",
    " 'consommation_level_3',\n",
    " 'consommation_level_4',\n",
    " 'old_index',\n",
    " 'new_index',\n",
    " 'months_number',\n",
    " 'counter_type',\n",
    " 'invoice_month',\n",
    " 'invoice_year',\n",
    " 'delta_index'\n",
    "]\n",
    "\n",
    "train_df1 = agg_feature(invoice_train1, client_train1, agg_stat_columns)\n",
    "test_df1 = agg_feature(invoice_test1, client_test1, agg_stat_columns)"
   ]
  },
  {
   "cell_type": "code",
   "execution_count": 9,
   "metadata": {
    "scrolled": true
   },
   "outputs": [
    {
     "name": "stdout",
     "output_type": "stream",
     "text": [
      "Index(['disrict', 'client_id', 'client_catg', 'region', 'creation_date',\n",
      "       'target', 'region_group', 'coop_time', 'is_weekday_mean',\n",
      "       'transactions_count', 'tarif_type_mean', 'tarif_type_std',\n",
      "       'tarif_type_min', 'tarif_type_max', 'counter_number_mean',\n",
      "       'counter_number_std', 'counter_number_min', 'counter_number_max',\n",
      "       'counter_statue_mean', 'counter_statue_std', 'counter_statue_min',\n",
      "       'counter_statue_max', 'counter_code_mean', 'counter_code_std',\n",
      "       'counter_code_min', 'counter_code_max', 'reading_remarque_mean',\n",
      "       'reading_remarque_std', 'reading_remarque_min', 'reading_remarque_max',\n",
      "       'consommation_level_1_mean', 'consommation_level_1_std',\n",
      "       'consommation_level_1_min', 'consommation_level_1_max',\n",
      "       'consommation_level_2_mean', 'consommation_level_2_std',\n",
      "       'consommation_level_2_min', 'consommation_level_2_max',\n",
      "       'consommation_level_3_mean', 'consommation_level_3_std',\n",
      "       'consommation_level_3_min', 'consommation_level_3_max',\n",
      "       'consommation_level_4_mean', 'consommation_level_4_std',\n",
      "       'consommation_level_4_min', 'consommation_level_4_max',\n",
      "       'old_index_mean', 'old_index_std', 'old_index_min', 'old_index_max',\n",
      "       'new_index_mean', 'new_index_std', 'new_index_min', 'new_index_max',\n",
      "       'months_number_mean', 'months_number_std', 'months_number_min',\n",
      "       'months_number_max', 'counter_type_mean', 'counter_type_std',\n",
      "       'counter_type_min', 'counter_type_max', 'invoice_month_mean',\n",
      "       'invoice_month_std', 'invoice_month_min', 'invoice_month_max',\n",
      "       'invoice_year_mean', 'invoice_year_std', 'invoice_year_min',\n",
      "       'invoice_year_max', 'delta_index_mean', 'delta_index_std',\n",
      "       'delta_index_min', 'delta_index_max', 'delta_time_mean',\n",
      "       'delta_time_std', 'delta_time_min', 'delta_time_max',\n",
      "       'invoice_per_cooperation', '1transactions_count',\n",
      "       'consommation_level_1_mean_mean', 'consommation_level_2_mean_mean',\n",
      "       'consommation_level_3_mean_mean', 'consommation_level_4_mean_mean'],\n",
      "      dtype='object')\n"
     ]
    }
   ],
   "source": [
    "train_df1 = pd.merge(train_df1,agg_trans, on='client_id', how='left')\n",
    "\n",
    "test_df1 = pd.merge(test_df1,agg_trans, on='client_id', how='left')\n",
    "\n",
    "print(train_df1.columns)"
   ]
  },
  {
   "cell_type": "code",
   "execution_count": 10,
   "metadata": {},
   "outputs": [],
   "source": [
    "def new_features(df):\n",
    "    \n",
    "    for col in agg_stat_columns:\n",
    "        df[col+'_range'] = df[col+'_max'] - df[col+'_min']\n",
    "        df[col+'_max_mean'] = df[col+'_max']/df[col+'_mean']\n",
    "    \n",
    "    return df"
   ]
  },
  {
   "cell_type": "code",
   "execution_count": 11,
   "metadata": {},
   "outputs": [],
   "source": [
    "train_df2 = new_features(train_df1)\n",
    "test_df2 = new_features(test_df1)"
   ]
  },
  {
   "cell_type": "code",
   "execution_count": 12,
   "metadata": {},
   "outputs": [],
   "source": [
    "def drop(df):\n",
    "\n",
    "    col_drop = ['client_id', 'creation_date']\n",
    "    for col in col_drop:\n",
    "        df.drop([col], axis=1, inplace=True)\n",
    "    return df"
   ]
  },
  {
   "cell_type": "code",
   "execution_count": 13,
   "metadata": {},
   "outputs": [],
   "source": [
    "train_df = drop(train_df2)\n",
    "test_df = drop(test_df2)"
   ]
  },
  {
   "cell_type": "code",
   "execution_count": 14,
   "metadata": {},
   "outputs": [],
   "source": [
    "y = train_df['target']\n",
    "X = train_df.drop('target',axis=1)\n",
    "\n",
    "feature_name = X.columns.tolist()"
   ]
  },
  {
   "cell_type": "code",
   "execution_count": 15,
   "metadata": {},
   "outputs": [],
   "source": [
    "drop_col=['reading_remarque_max','counter_statue_min','counter_type_min','counter_type_max','counter_type_range',\n",
    "          'tarif_type_max', 'delta_index_min', 'consommation_level_4_mean']\n",
    "\n",
    "X = X.drop(drop_col, axis=1)\n",
    "test_df = test_df.drop(drop_col, axis=1)"
   ]
  },
  {
   "cell_type": "code",
   "execution_count": 16,
   "metadata": {},
   "outputs": [
    {
     "data": {
      "text/plain": [
       "0         0.0\n",
       "1         0.0\n",
       "2         0.0\n",
       "3         0.0\n",
       "4         0.0\n",
       "         ... \n",
       "135488    0.0\n",
       "135489    0.0\n",
       "135490    0.0\n",
       "135491    0.0\n",
       "135492    0.0\n",
       "Name: target, Length: 135493, dtype: float64"
      ]
     },
     "execution_count": 16,
     "metadata": {},
     "output_type": "execute_result"
    }
   ],
   "source": [
    "y"
   ]
  },
  {
   "cell_type": "code",
   "execution_count": 17,
   "metadata": {},
   "outputs": [
    {
     "data": {
      "text/html": [
       "<div>\n",
       "<style scoped>\n",
       "    .dataframe tbody tr th:only-of-type {\n",
       "        vertical-align: middle;\n",
       "    }\n",
       "\n",
       "    .dataframe tbody tr th {\n",
       "        vertical-align: top;\n",
       "    }\n",
       "\n",
       "    .dataframe thead th {\n",
       "        text-align: right;\n",
       "    }\n",
       "</style>\n",
       "<table border=\"1\" class=\"dataframe\">\n",
       "  <thead>\n",
       "    <tr style=\"text-align: right;\">\n",
       "      <th></th>\n",
       "      <th>disrict</th>\n",
       "      <th>client_catg</th>\n",
       "      <th>region</th>\n",
       "      <th>region_group</th>\n",
       "      <th>coop_time</th>\n",
       "      <th>is_weekday_mean</th>\n",
       "      <th>transactions_count</th>\n",
       "      <th>tarif_type_mean</th>\n",
       "      <th>tarif_type_std</th>\n",
       "      <th>tarif_type_min</th>\n",
       "      <th>...</th>\n",
       "      <th>new_index_max_mean</th>\n",
       "      <th>months_number_range</th>\n",
       "      <th>months_number_max_mean</th>\n",
       "      <th>counter_type_max_mean</th>\n",
       "      <th>invoice_month_range</th>\n",
       "      <th>invoice_month_max_mean</th>\n",
       "      <th>invoice_year_range</th>\n",
       "      <th>invoice_year_max_mean</th>\n",
       "      <th>delta_index_range</th>\n",
       "      <th>delta_index_max_mean</th>\n",
       "    </tr>\n",
       "  </thead>\n",
       "  <tbody>\n",
       "    <tr>\n",
       "      <th>0</th>\n",
       "      <td>60</td>\n",
       "      <td>11</td>\n",
       "      <td>101</td>\n",
       "      <td>200</td>\n",
       "      <td>288</td>\n",
       "      <td>0.028571</td>\n",
       "      <td>35.0</td>\n",
       "      <td>11.0</td>\n",
       "      <td>0.0</td>\n",
       "      <td>11.0</td>\n",
       "      <td>...</td>\n",
       "      <td>1.741318</td>\n",
       "      <td>10.0</td>\n",
       "      <td>2.592593</td>\n",
       "      <td>1.0</td>\n",
       "      <td>11.0</td>\n",
       "      <td>1.794872</td>\n",
       "      <td>14.0</td>\n",
       "      <td>1.003907</td>\n",
       "      <td>1348.0</td>\n",
       "      <td>3.818482</td>\n",
       "    </tr>\n",
       "    <tr>\n",
       "      <th>1</th>\n",
       "      <td>69</td>\n",
       "      <td>11</td>\n",
       "      <td>107</td>\n",
       "      <td>200</td>\n",
       "      <td>199</td>\n",
       "      <td>0.054054</td>\n",
       "      <td>37.0</td>\n",
       "      <td>11.0</td>\n",
       "      <td>0.0</td>\n",
       "      <td>11.0</td>\n",
       "      <td>...</td>\n",
       "      <td>1.680649</td>\n",
       "      <td>6.0</td>\n",
       "      <td>1.850000</td>\n",
       "      <td>1.0</td>\n",
       "      <td>9.0</td>\n",
       "      <td>1.947368</td>\n",
       "      <td>14.0</td>\n",
       "      <td>1.003560</td>\n",
       "      <td>1017.0</td>\n",
       "      <td>2.164865</td>\n",
       "    </tr>\n",
       "    <tr>\n",
       "      <th>2</th>\n",
       "      <td>62</td>\n",
       "      <td>11</td>\n",
       "      <td>301</td>\n",
       "      <td>300</td>\n",
       "      <td>393</td>\n",
       "      <td>0.055556</td>\n",
       "      <td>18.0</td>\n",
       "      <td>11.0</td>\n",
       "      <td>0.0</td>\n",
       "      <td>11.0</td>\n",
       "      <td>...</td>\n",
       "      <td>1.323484</td>\n",
       "      <td>8.0</td>\n",
       "      <td>1.862069</td>\n",
       "      <td>1.0</td>\n",
       "      <td>9.0</td>\n",
       "      <td>1.663866</td>\n",
       "      <td>14.0</td>\n",
       "      <td>1.004006</td>\n",
       "      <td>2894.0</td>\n",
       "      <td>3.684399</td>\n",
       "    </tr>\n",
       "    <tr>\n",
       "      <th>3</th>\n",
       "      <td>69</td>\n",
       "      <td>11</td>\n",
       "      <td>105</td>\n",
       "      <td>200</td>\n",
       "      <td>265</td>\n",
       "      <td>0.050000</td>\n",
       "      <td>20.0</td>\n",
       "      <td>11.0</td>\n",
       "      <td>0.0</td>\n",
       "      <td>11.0</td>\n",
       "      <td>...</td>\n",
       "      <td>1.195595</td>\n",
       "      <td>2.0</td>\n",
       "      <td>1.428571</td>\n",
       "      <td>1.0</td>\n",
       "      <td>9.0</td>\n",
       "      <td>1.801802</td>\n",
       "      <td>7.0</td>\n",
       "      <td>1.001693</td>\n",
       "      <td>15.0</td>\n",
       "      <td>12.500000</td>\n",
       "    </tr>\n",
       "    <tr>\n",
       "      <th>4</th>\n",
       "      <td>62</td>\n",
       "      <td>11</td>\n",
       "      <td>303</td>\n",
       "      <td>300</td>\n",
       "      <td>50</td>\n",
       "      <td>0.285714</td>\n",
       "      <td>14.0</td>\n",
       "      <td>11.0</td>\n",
       "      <td>0.0</td>\n",
       "      <td>11.0</td>\n",
       "      <td>...</td>\n",
       "      <td>1.754937</td>\n",
       "      <td>2.0</td>\n",
       "      <td>1.076923</td>\n",
       "      <td>1.0</td>\n",
       "      <td>10.0</td>\n",
       "      <td>1.584906</td>\n",
       "      <td>4.0</td>\n",
       "      <td>1.001062</td>\n",
       "      <td>2258.0</td>\n",
       "      <td>2.581714</td>\n",
       "    </tr>\n",
       "    <tr>\n",
       "      <th>...</th>\n",
       "      <td>...</td>\n",
       "      <td>...</td>\n",
       "      <td>...</td>\n",
       "      <td>...</td>\n",
       "      <td>...</td>\n",
       "      <td>...</td>\n",
       "      <td>...</td>\n",
       "      <td>...</td>\n",
       "      <td>...</td>\n",
       "      <td>...</td>\n",
       "      <td>...</td>\n",
       "      <td>...</td>\n",
       "      <td>...</td>\n",
       "      <td>...</td>\n",
       "      <td>...</td>\n",
       "      <td>...</td>\n",
       "      <td>...</td>\n",
       "      <td>...</td>\n",
       "      <td>...</td>\n",
       "      <td>...</td>\n",
       "      <td>...</td>\n",
       "    </tr>\n",
       "    <tr>\n",
       "      <th>135488</th>\n",
       "      <td>62</td>\n",
       "      <td>11</td>\n",
       "      <td>304</td>\n",
       "      <td>300</td>\n",
       "      <td>173</td>\n",
       "      <td>NaN</td>\n",
       "      <td>NaN</td>\n",
       "      <td>NaN</td>\n",
       "      <td>NaN</td>\n",
       "      <td>NaN</td>\n",
       "      <td>...</td>\n",
       "      <td>NaN</td>\n",
       "      <td>NaN</td>\n",
       "      <td>NaN</td>\n",
       "      <td>NaN</td>\n",
       "      <td>NaN</td>\n",
       "      <td>NaN</td>\n",
       "      <td>NaN</td>\n",
       "      <td>NaN</td>\n",
       "      <td>NaN</td>\n",
       "      <td>NaN</td>\n",
       "    </tr>\n",
       "    <tr>\n",
       "      <th>135489</th>\n",
       "      <td>63</td>\n",
       "      <td>11</td>\n",
       "      <td>311</td>\n",
       "      <td>300</td>\n",
       "      <td>74</td>\n",
       "      <td>NaN</td>\n",
       "      <td>NaN</td>\n",
       "      <td>NaN</td>\n",
       "      <td>NaN</td>\n",
       "      <td>NaN</td>\n",
       "      <td>...</td>\n",
       "      <td>NaN</td>\n",
       "      <td>NaN</td>\n",
       "      <td>NaN</td>\n",
       "      <td>NaN</td>\n",
       "      <td>NaN</td>\n",
       "      <td>NaN</td>\n",
       "      <td>NaN</td>\n",
       "      <td>NaN</td>\n",
       "      <td>NaN</td>\n",
       "      <td>NaN</td>\n",
       "    </tr>\n",
       "    <tr>\n",
       "      <th>135490</th>\n",
       "      <td>63</td>\n",
       "      <td>11</td>\n",
       "      <td>311</td>\n",
       "      <td>300</td>\n",
       "      <td>85</td>\n",
       "      <td>NaN</td>\n",
       "      <td>NaN</td>\n",
       "      <td>NaN</td>\n",
       "      <td>NaN</td>\n",
       "      <td>NaN</td>\n",
       "      <td>...</td>\n",
       "      <td>NaN</td>\n",
       "      <td>NaN</td>\n",
       "      <td>NaN</td>\n",
       "      <td>NaN</td>\n",
       "      <td>NaN</td>\n",
       "      <td>NaN</td>\n",
       "      <td>NaN</td>\n",
       "      <td>NaN</td>\n",
       "      <td>NaN</td>\n",
       "      <td>NaN</td>\n",
       "    </tr>\n",
       "    <tr>\n",
       "      <th>135491</th>\n",
       "      <td>60</td>\n",
       "      <td>11</td>\n",
       "      <td>101</td>\n",
       "      <td>200</td>\n",
       "      <td>300</td>\n",
       "      <td>NaN</td>\n",
       "      <td>NaN</td>\n",
       "      <td>NaN</td>\n",
       "      <td>NaN</td>\n",
       "      <td>NaN</td>\n",
       "      <td>...</td>\n",
       "      <td>NaN</td>\n",
       "      <td>NaN</td>\n",
       "      <td>NaN</td>\n",
       "      <td>NaN</td>\n",
       "      <td>NaN</td>\n",
       "      <td>NaN</td>\n",
       "      <td>NaN</td>\n",
       "      <td>NaN</td>\n",
       "      <td>NaN</td>\n",
       "      <td>NaN</td>\n",
       "    </tr>\n",
       "    <tr>\n",
       "      <th>135492</th>\n",
       "      <td>60</td>\n",
       "      <td>11</td>\n",
       "      <td>101</td>\n",
       "      <td>200</td>\n",
       "      <td>394</td>\n",
       "      <td>NaN</td>\n",
       "      <td>NaN</td>\n",
       "      <td>NaN</td>\n",
       "      <td>NaN</td>\n",
       "      <td>NaN</td>\n",
       "      <td>...</td>\n",
       "      <td>NaN</td>\n",
       "      <td>NaN</td>\n",
       "      <td>NaN</td>\n",
       "      <td>NaN</td>\n",
       "      <td>NaN</td>\n",
       "      <td>NaN</td>\n",
       "      <td>NaN</td>\n",
       "      <td>NaN</td>\n",
       "      <td>NaN</td>\n",
       "      <td>NaN</td>\n",
       "    </tr>\n",
       "  </tbody>\n",
       "</table>\n",
       "<p>135493 rows × 105 columns</p>\n",
       "</div>"
      ],
      "text/plain": [
       "       disrict client_catg region  region_group  coop_time  is_weekday_mean  \\\n",
       "0           60          11    101           200        288         0.028571   \n",
       "1           69          11    107           200        199         0.054054   \n",
       "2           62          11    301           300        393         0.055556   \n",
       "3           69          11    105           200        265         0.050000   \n",
       "4           62          11    303           300         50         0.285714   \n",
       "...        ...         ...    ...           ...        ...              ...   \n",
       "135488      62          11    304           300        173              NaN   \n",
       "135489      63          11    311           300         74              NaN   \n",
       "135490      63          11    311           300         85              NaN   \n",
       "135491      60          11    101           200        300              NaN   \n",
       "135492      60          11    101           200        394              NaN   \n",
       "\n",
       "        transactions_count  tarif_type_mean  tarif_type_std  tarif_type_min  \\\n",
       "0                     35.0             11.0             0.0            11.0   \n",
       "1                     37.0             11.0             0.0            11.0   \n",
       "2                     18.0             11.0             0.0            11.0   \n",
       "3                     20.0             11.0             0.0            11.0   \n",
       "4                     14.0             11.0             0.0            11.0   \n",
       "...                    ...              ...             ...             ...   \n",
       "135488                 NaN              NaN             NaN             NaN   \n",
       "135489                 NaN              NaN             NaN             NaN   \n",
       "135490                 NaN              NaN             NaN             NaN   \n",
       "135491                 NaN              NaN             NaN             NaN   \n",
       "135492                 NaN              NaN             NaN             NaN   \n",
       "\n",
       "        ...  new_index_max_mean  months_number_range  months_number_max_mean  \\\n",
       "0       ...            1.741318                 10.0                2.592593   \n",
       "1       ...            1.680649                  6.0                1.850000   \n",
       "2       ...            1.323484                  8.0                1.862069   \n",
       "3       ...            1.195595                  2.0                1.428571   \n",
       "4       ...            1.754937                  2.0                1.076923   \n",
       "...     ...                 ...                  ...                     ...   \n",
       "135488  ...                 NaN                  NaN                     NaN   \n",
       "135489  ...                 NaN                  NaN                     NaN   \n",
       "135490  ...                 NaN                  NaN                     NaN   \n",
       "135491  ...                 NaN                  NaN                     NaN   \n",
       "135492  ...                 NaN                  NaN                     NaN   \n",
       "\n",
       "        counter_type_max_mean  invoice_month_range  invoice_month_max_mean  \\\n",
       "0                         1.0                 11.0                1.794872   \n",
       "1                         1.0                  9.0                1.947368   \n",
       "2                         1.0                  9.0                1.663866   \n",
       "3                         1.0                  9.0                1.801802   \n",
       "4                         1.0                 10.0                1.584906   \n",
       "...                       ...                  ...                     ...   \n",
       "135488                    NaN                  NaN                     NaN   \n",
       "135489                    NaN                  NaN                     NaN   \n",
       "135490                    NaN                  NaN                     NaN   \n",
       "135491                    NaN                  NaN                     NaN   \n",
       "135492                    NaN                  NaN                     NaN   \n",
       "\n",
       "        invoice_year_range  invoice_year_max_mean  delta_index_range  \\\n",
       "0                     14.0               1.003907             1348.0   \n",
       "1                     14.0               1.003560             1017.0   \n",
       "2                     14.0               1.004006             2894.0   \n",
       "3                      7.0               1.001693               15.0   \n",
       "4                      4.0               1.001062             2258.0   \n",
       "...                    ...                    ...                ...   \n",
       "135488                 NaN                    NaN                NaN   \n",
       "135489                 NaN                    NaN                NaN   \n",
       "135490                 NaN                    NaN                NaN   \n",
       "135491                 NaN                    NaN                NaN   \n",
       "135492                 NaN                    NaN                NaN   \n",
       "\n",
       "        delta_index_max_mean  \n",
       "0                   3.818482  \n",
       "1                   2.164865  \n",
       "2                   3.684399  \n",
       "3                  12.500000  \n",
       "4                   2.581714  \n",
       "...                      ...  \n",
       "135488                   NaN  \n",
       "135489                   NaN  \n",
       "135490                   NaN  \n",
       "135491                   NaN  \n",
       "135492                   NaN  \n",
       "\n",
       "[135493 rows x 105 columns]"
      ]
     },
     "execution_count": 17,
     "metadata": {},
     "output_type": "execute_result"
    }
   ],
   "source": [
    "X"
   ]
  },
  {
   "cell_type": "code",
   "execution_count": 18,
   "metadata": {},
   "outputs": [],
   "source": [
    "X.replace([np.inf, -np.inf], np.nan, inplace=True)"
   ]
  },
  {
   "cell_type": "code",
   "execution_count": 19,
   "metadata": {
    "colab": {
     "base_uri": "https://localhost:8080/",
     "height": 329
    },
    "id": "LKCmPVaAfb-f",
    "outputId": "e2eaadde-8332-45a3-c288-fa5b4cd7d878"
   },
   "outputs": [],
   "source": [
    "from flaml import AutoML\n",
    "automl = AutoML()"
   ]
  },
  {
   "cell_type": "code",
   "execution_count": 20,
   "metadata": {},
   "outputs": [],
   "source": [
    "settings = {\n",
    "    \"time_budget\": 600,\n",
    "    \"metric\": 'f1',  \n",
    "    \"task\": 'classification',\n",
    "    \"log_file_name\": 'zindi_experiment.log',\n",
    "    \"seed\": 123456,\n",
    "}"
   ]
  },
  {
   "cell_type": "code",
   "execution_count": null,
   "metadata": {},
   "outputs": [],
   "source": [
    "automl.fit(X_train=X, y_train=y, **settings)"
   ]
  },
  {
   "cell_type": "code",
   "execution_count": 22,
   "metadata": {
    "id": "85J9K5kgir4g"
   },
   "outputs": [
    {
     "name": "stdout",
     "output_type": "stream",
     "text": [
      "Best ML leaner: lgbm\n",
      "Best hyperparmeter config: {'n_estimators': 9, 'num_leaves': 578, 'min_child_samples': 3, 'learning_rate': 1.0, 'log_max_bin': 10, 'colsample_bytree': 0.7670907141761506, 'reg_alpha': 0.0009765625, 'reg_lambda': 0.028390585536496545, 'FLAML_sample_size': 121943}\n",
      "Best accuracy on validation data: 0.1139\n",
      "Training duration of best run: 1.862 s\n"
     ]
    }
   ],
   "source": [
    "'''retrieve best config and best learner'''\n",
    "print('Best ML leaner:', automl.best_estimator)\n",
    "print('Best hyperparmeter config:', automl.best_config)\n",
    "print('Best accuracy on validation data: {0:.4g}'.format(1-automl.best_loss))\n",
    "print('Training duration of best run: {0:.4g} s'.format(automl.best_config_train_time))"
   ]
  },
  {
   "cell_type": "code",
   "execution_count": 23,
   "metadata": {
    "id": "a_Dxdzg8kvz9"
   },
   "outputs": [
    {
     "data": {
      "text/html": [
       "<style>#sk-container-id-1 {color: black;background-color: white;}#sk-container-id-1 pre{padding: 0;}#sk-container-id-1 div.sk-toggleable {background-color: white;}#sk-container-id-1 label.sk-toggleable__label {cursor: pointer;display: block;width: 100%;margin-bottom: 0;padding: 0.3em;box-sizing: border-box;text-align: center;}#sk-container-id-1 label.sk-toggleable__label-arrow:before {content: \"▸\";float: left;margin-right: 0.25em;color: #696969;}#sk-container-id-1 label.sk-toggleable__label-arrow:hover:before {color: black;}#sk-container-id-1 div.sk-estimator:hover label.sk-toggleable__label-arrow:before {color: black;}#sk-container-id-1 div.sk-toggleable__content {max-height: 0;max-width: 0;overflow: hidden;text-align: left;background-color: #f0f8ff;}#sk-container-id-1 div.sk-toggleable__content pre {margin: 0.2em;color: black;border-radius: 0.25em;background-color: #f0f8ff;}#sk-container-id-1 input.sk-toggleable__control:checked~div.sk-toggleable__content {max-height: 200px;max-width: 100%;overflow: auto;}#sk-container-id-1 input.sk-toggleable__control:checked~label.sk-toggleable__label-arrow:before {content: \"▾\";}#sk-container-id-1 div.sk-estimator input.sk-toggleable__control:checked~label.sk-toggleable__label {background-color: #d4ebff;}#sk-container-id-1 div.sk-label input.sk-toggleable__control:checked~label.sk-toggleable__label {background-color: #d4ebff;}#sk-container-id-1 input.sk-hidden--visually {border: 0;clip: rect(1px 1px 1px 1px);clip: rect(1px, 1px, 1px, 1px);height: 1px;margin: -1px;overflow: hidden;padding: 0;position: absolute;width: 1px;}#sk-container-id-1 div.sk-estimator {font-family: monospace;background-color: #f0f8ff;border: 1px dotted black;border-radius: 0.25em;box-sizing: border-box;margin-bottom: 0.5em;}#sk-container-id-1 div.sk-estimator:hover {background-color: #d4ebff;}#sk-container-id-1 div.sk-parallel-item::after {content: \"\";width: 100%;border-bottom: 1px solid gray;flex-grow: 1;}#sk-container-id-1 div.sk-label:hover label.sk-toggleable__label {background-color: #d4ebff;}#sk-container-id-1 div.sk-serial::before {content: \"\";position: absolute;border-left: 1px solid gray;box-sizing: border-box;top: 0;bottom: 0;left: 50%;z-index: 0;}#sk-container-id-1 div.sk-serial {display: flex;flex-direction: column;align-items: center;background-color: white;padding-right: 0.2em;padding-left: 0.2em;position: relative;}#sk-container-id-1 div.sk-item {position: relative;z-index: 1;}#sk-container-id-1 div.sk-parallel {display: flex;align-items: stretch;justify-content: center;background-color: white;position: relative;}#sk-container-id-1 div.sk-item::before, #sk-container-id-1 div.sk-parallel-item::before {content: \"\";position: absolute;border-left: 1px solid gray;box-sizing: border-box;top: 0;bottom: 0;left: 50%;z-index: -1;}#sk-container-id-1 div.sk-parallel-item {display: flex;flex-direction: column;z-index: 1;position: relative;background-color: white;}#sk-container-id-1 div.sk-parallel-item:first-child::after {align-self: flex-end;width: 50%;}#sk-container-id-1 div.sk-parallel-item:last-child::after {align-self: flex-start;width: 50%;}#sk-container-id-1 div.sk-parallel-item:only-child::after {width: 0;}#sk-container-id-1 div.sk-dashed-wrapped {border: 1px dashed gray;margin: 0 0.4em 0.5em 0.4em;box-sizing: border-box;padding-bottom: 0.4em;background-color: white;}#sk-container-id-1 div.sk-label label {font-family: monospace;font-weight: bold;display: inline-block;line-height: 1.2em;}#sk-container-id-1 div.sk-label-container {text-align: center;}#sk-container-id-1 div.sk-container {/* jupyter's `normalize.less` sets `[hidden] { display: none; }` but bootstrap.min.css set `[hidden] { display: none !important; }` so we also need the `!important` here to be able to override the default hidden behavior on the sphinx rendered scikit-learn.org. See: https://github.com/scikit-learn/scikit-learn/issues/21755 */display: inline-block !important;position: relative;}#sk-container-id-1 div.sk-text-repr-fallback {display: none;}</style><div id=\"sk-container-id-1\" class=\"sk-top-container\"><div class=\"sk-text-repr-fallback\"><pre>LGBMClassifier(colsample_bytree=0.7670907141761506, learning_rate=1.0,\n",
       "               max_bin=1023, min_child_samples=3, n_estimators=9,\n",
       "               num_leaves=578, reg_alpha=0.0009765625,\n",
       "               reg_lambda=0.028390585536496545, verbose=-1)</pre><b>In a Jupyter environment, please rerun this cell to show the HTML representation or trust the notebook. <br />On GitHub, the HTML representation is unable to render, please try loading this page with nbviewer.org.</b></div><div class=\"sk-container\" hidden><div class=\"sk-item\"><div class=\"sk-estimator sk-toggleable\"><input class=\"sk-toggleable__control sk-hidden--visually\" id=\"sk-estimator-id-1\" type=\"checkbox\" checked><label for=\"sk-estimator-id-1\" class=\"sk-toggleable__label sk-toggleable__label-arrow\">LGBMClassifier</label><div class=\"sk-toggleable__content\"><pre>LGBMClassifier(colsample_bytree=0.7670907141761506, learning_rate=1.0,\n",
       "               max_bin=1023, min_child_samples=3, n_estimators=9,\n",
       "               num_leaves=578, reg_alpha=0.0009765625,\n",
       "               reg_lambda=0.028390585536496545, verbose=-1)</pre></div></div></div></div></div>"
      ],
      "text/plain": [
       "LGBMClassifier(colsample_bytree=0.7670907141761506, learning_rate=1.0,\n",
       "               max_bin=1023, min_child_samples=3, n_estimators=9,\n",
       "               num_leaves=578, reg_alpha=0.0009765625,\n",
       "               reg_lambda=0.028390585536496545, verbose=-1)"
      ]
     },
     "execution_count": 23,
     "metadata": {},
     "output_type": "execute_result"
    }
   ],
   "source": [
    "automl.model.estimator"
   ]
  },
  {
   "cell_type": "code",
   "execution_count": 24,
   "metadata": {
    "id": "uwp3NQS-k6dw"
   },
   "outputs": [],
   "source": [
    "'''pickle and save the automl object'''\n",
    "import pickle\n",
    "with open('automl.pkl', 'wb') as f:\n",
    "    pickle.dump(automl, f, pickle.HIGHEST_PROTOCOL)\n",
    "'''load pickled automl object'''\n",
    "with open('automl.pkl', 'rb') as f:\n",
    "    automl = pickle.load(f)"
   ]
  },
  {
   "cell_type": "code",
   "execution_count": 25,
   "metadata": {
    "id": "PjcTi_K80cTx"
   },
   "outputs": [
    {
     "name": "stdout",
     "output_type": "stream",
     "text": [
      "Predicted labels [0. 0. 0. ... 0. 0. 0.]\n",
      "True labels 0         0.0\n",
      "1         0.0\n",
      "2         0.0\n",
      "3         0.0\n",
      "4         0.0\n",
      "         ... \n",
      "135488    0.0\n",
      "135489    0.0\n",
      "135490    0.0\n",
      "135491    0.0\n",
      "135492    0.0\n",
      "Name: target, Length: 135493, dtype: float64\n"
     ]
    }
   ],
   "source": [
    "'''compute predictions of training dataset''' \n",
    "y_pred = automl.predict(X)\n",
    "print('Predicted labels', y_pred)\n",
    "print('True labels', y)\n",
    "y_pred_proba = automl.predict_proba(X)[:,1]"
   ]
  },
  {
   "cell_type": "code",
   "execution_count": 26,
   "metadata": {
    "id": "GPRqaRrm0n65",
    "scrolled": true
   },
   "outputs": [
    {
     "name": "stdout",
     "output_type": "stream",
     "text": [
      "accuracy = 0.9539016775774394\n",
      "roc_auc = 0.8513459904039535\n",
      "log_loss = 0.1764543146443834\n"
     ]
    }
   ],
   "source": [
    "''' compute different metric values on training dataset'''\n",
    "from flaml.ml import sklearn_metric_loss_score\n",
    "print('accuracy', '=', 1 - sklearn_metric_loss_score('accuracy', y_pred, y))\n",
    "print('roc_auc', '=', 1 - sklearn_metric_loss_score('roc_auc', y_pred_proba, y))\n",
    "print('log_loss', '=', sklearn_metric_loss_score('log_loss', y_pred_proba, y))"
   ]
  },
  {
   "cell_type": "code",
   "execution_count": 28,
   "metadata": {},
   "outputs": [],
   "source": [
    "test_df.replace([np.inf, -np.inf], np.nan, inplace=True)"
   ]
  },
  {
   "cell_type": "code",
   "execution_count": 31,
   "metadata": {
    "id": "7Uqqu4uE1Fx8"
   },
   "outputs": [
    {
     "name": "stdout",
     "output_type": "stream",
     "text": [
      "Predicted labels [0. 1. 0. ... 0. 0. 0.]\n"
     ]
    }
   ],
   "source": [
    "'''compute predictions of testing dataset''' \n",
    "y_pred = automl.predict(test_df)\n",
    "print('Predicted labels', y_pred)"
   ]
  },
  {
   "cell_type": "code",
   "execution_count": 32,
   "metadata": {},
   "outputs": [
    {
     "name": "stdout",
     "output_type": "stream",
     "text": [
      "<class 'pandas.core.frame.DataFrame'>\n",
      "Int64Index: 58069 entries, 0 to 58068\n",
      "Columns: 105 entries, disrict to delta_index_max_mean\n",
      "dtypes: category(3), float64(100), int64(2)\n",
      "memory usage: 45.8 MB\n"
     ]
    }
   ],
   "source": [
    "test_df.info()"
   ]
  },
  {
   "cell_type": "code",
   "execution_count": 33,
   "metadata": {
    "id": "5vpcGU8u3J1s",
    "scrolled": false
   },
   "outputs": [
    {
     "data": {
      "text/plain": [
       "0           test_Client_0\n",
       "1           test_Client_1\n",
       "2          test_Client_10\n",
       "3         test_Client_100\n",
       "4        test_Client_1000\n",
       "               ...       \n",
       "58064    test_Client_9995\n",
       "58065    test_Client_9996\n",
       "58066    test_Client_9997\n",
       "58067    test_Client_9998\n",
       "58068    test_Client_9999\n",
       "Name: client_id, Length: 58069, dtype: object"
      ]
     },
     "execution_count": 33,
     "metadata": {},
     "output_type": "execute_result"
    }
   ],
   "source": [
    "sample_submission[\"client_id\"]"
   ]
  },
  {
   "cell_type": "code",
   "execution_count": 34,
   "metadata": {},
   "outputs": [
    {
     "data": {
      "text/plain": [
       "58069"
      ]
     },
     "execution_count": 34,
     "metadata": {},
     "output_type": "execute_result"
    }
   ],
   "source": [
    "len(y_pred)"
   ]
  },
  {
   "cell_type": "code",
   "execution_count": 35,
   "metadata": {},
   "outputs": [],
   "source": [
    "prediction_array = pd.DataFrame(y_pred, columns=[\"label\"])"
   ]
  },
  {
   "cell_type": "code",
   "execution_count": 37,
   "metadata": {
    "id": "XJzjKok76mJO"
   },
   "outputs": [],
   "source": [
    "submission = pd.DataFrame({\n",
    "        \"client_id\": sample_submission[\"client_id\"],\n",
    "        \"target\": prediction_array[\"label\"]\n",
    "    })\n",
    "submission.to_csv('submission.csv', index=False)"
   ]
  },
  {
   "cell_type": "code",
   "execution_count": 38,
   "metadata": {},
   "outputs": [
    {
     "name": "stdout",
     "output_type": "stream",
     "text": [
      "{'Current Learner': 'lgbm', 'Current Sample': 10000, 'Current Hyper-parameters': {'n_estimators': 4, 'num_leaves': 4, 'min_child_samples': 20, 'learning_rate': 0.09999999999999995, 'log_max_bin': 8, 'colsample_bytree': 1.0, 'reg_alpha': 0.0009765625, 'reg_lambda': 1.0, 'FLAML_sample_size': 10000}, 'Best Learner': 'lgbm', 'Best Hyper-parameters': {'n_estimators': 4, 'num_leaves': 4, 'min_child_samples': 20, 'learning_rate': 0.09999999999999995, 'log_max_bin': 8, 'colsample_bytree': 1.0, 'reg_alpha': 0.0009765625, 'reg_lambda': 1.0, 'FLAML_sample_size': 10000}}\n",
      "{'Current Learner': 'xgboost', 'Current Sample': 10000, 'Current Hyper-parameters': {'n_estimators': 4, 'max_leaves': 4, 'min_child_weight': 0.9999999999999993, 'learning_rate': 0.09999999999999995, 'subsample': 1.0, 'colsample_bylevel': 1.0, 'colsample_bytree': 1.0, 'reg_alpha': 0.0009765625, 'reg_lambda': 1.0, 'FLAML_sample_size': 10000}, 'Best Learner': 'xgboost', 'Best Hyper-parameters': {'n_estimators': 4, 'max_leaves': 4, 'min_child_weight': 0.9999999999999993, 'learning_rate': 0.09999999999999995, 'subsample': 1.0, 'colsample_bylevel': 1.0, 'colsample_bytree': 1.0, 'reg_alpha': 0.0009765625, 'reg_lambda': 1.0, 'FLAML_sample_size': 10000}}\n",
      "{'Current Learner': 'lgbm', 'Current Sample': 10000, 'Current Hyper-parameters': {'n_estimators': 4, 'num_leaves': 4, 'min_child_samples': 11, 'learning_rate': 1.0, 'log_max_bin': 9, 'colsample_bytree': 1.0, 'reg_alpha': 0.0022272393216121044, 'reg_lambda': 0.33421858425648115, 'FLAML_sample_size': 10000}, 'Best Learner': 'lgbm', 'Best Hyper-parameters': {'n_estimators': 4, 'num_leaves': 4, 'min_child_samples': 11, 'learning_rate': 1.0, 'log_max_bin': 9, 'colsample_bytree': 1.0, 'reg_alpha': 0.0022272393216121044, 'reg_lambda': 0.33421858425648115, 'FLAML_sample_size': 10000}}\n",
      "{'Current Learner': 'lgbm', 'Current Sample': 10000, 'Current Hyper-parameters': {'n_estimators': 4, 'num_leaves': 15, 'min_child_samples': 10, 'learning_rate': 1.0, 'log_max_bin': 9, 'colsample_bytree': 1.0, 'reg_alpha': 0.0011089831867594447, 'reg_lambda': 0.03106359464205548, 'FLAML_sample_size': 10000}, 'Best Learner': 'lgbm', 'Best Hyper-parameters': {'n_estimators': 4, 'num_leaves': 15, 'min_child_samples': 10, 'learning_rate': 1.0, 'log_max_bin': 9, 'colsample_bytree': 1.0, 'reg_alpha': 0.0011089831867594447, 'reg_lambda': 0.03106359464205548, 'FLAML_sample_size': 10000}}\n",
      "{'Current Learner': 'lgbm', 'Current Sample': 10000, 'Current Hyper-parameters': {'n_estimators': 11, 'num_leaves': 9, 'min_child_samples': 5, 'learning_rate': 1.0, 'log_max_bin': 10, 'colsample_bytree': 0.9927202923742687, 'reg_alpha': 0.0010449128688207983, 'reg_lambda': 0.0583273776646671, 'FLAML_sample_size': 10000}, 'Best Learner': 'lgbm', 'Best Hyper-parameters': {'n_estimators': 11, 'num_leaves': 9, 'min_child_samples': 5, 'learning_rate': 1.0, 'log_max_bin': 10, 'colsample_bytree': 0.9927202923742687, 'reg_alpha': 0.0010449128688207983, 'reg_lambda': 0.0583273776646671, 'FLAML_sample_size': 10000}}\n",
      "{'Current Learner': 'lgbm', 'Current Sample': 10000, 'Current Hyper-parameters': {'n_estimators': 4, 'num_leaves': 44, 'min_child_samples': 5, 'learning_rate': 0.9041869129190984, 'log_max_bin': 10, 'colsample_bytree': 0.8672096381895282, 'reg_alpha': 0.001956580545833975, 'reg_lambda': 0.016290668434734545, 'FLAML_sample_size': 10000}, 'Best Learner': 'lgbm', 'Best Hyper-parameters': {'n_estimators': 4, 'num_leaves': 44, 'min_child_samples': 5, 'learning_rate': 0.9041869129190984, 'log_max_bin': 10, 'colsample_bytree': 0.8672096381895282, 'reg_alpha': 0.001956580545833975, 'reg_lambda': 0.016290668434734545, 'FLAML_sample_size': 10000}}\n",
      "{'Current Learner': 'lgbm', 'Current Sample': 10000, 'Current Hyper-parameters': {'n_estimators': 9, 'num_leaves': 31, 'min_child_samples': 6, 'learning_rate': 1.0, 'log_max_bin': 9, 'colsample_bytree': 0.974515325419872, 'reg_alpha': 0.0013895067910905427, 'reg_lambda': 0.14624878740570274, 'FLAML_sample_size': 10000}, 'Best Learner': 'lgbm', 'Best Hyper-parameters': {'n_estimators': 9, 'num_leaves': 31, 'min_child_samples': 6, 'learning_rate': 1.0, 'log_max_bin': 9, 'colsample_bytree': 0.974515325419872, 'reg_alpha': 0.0013895067910905427, 'reg_lambda': 0.14624878740570274, 'FLAML_sample_size': 10000}}\n",
      "{'Current Learner': 'lgbm', 'Current Sample': 10000, 'Current Hyper-parameters': {'n_estimators': 4, 'num_leaves': 66, 'min_child_samples': 5, 'learning_rate': 0.44927137059919947, 'log_max_bin': 10, 'colsample_bytree': 0.9031390611170407, 'reg_alpha': 0.0009765625, 'reg_lambda': 0.04766874874707782, 'FLAML_sample_size': 10000}, 'Best Learner': 'lgbm', 'Best Hyper-parameters': {'n_estimators': 4, 'num_leaves': 66, 'min_child_samples': 5, 'learning_rate': 0.44927137059919947, 'log_max_bin': 10, 'colsample_bytree': 0.9031390611170407, 'reg_alpha': 0.0009765625, 'reg_lambda': 0.04766874874707782, 'FLAML_sample_size': 10000}}\n",
      "{'Current Learner': 'lgbm', 'Current Sample': 121943, 'Current Hyper-parameters': {'n_estimators': 4, 'num_leaves': 226, 'min_child_samples': 4, 'learning_rate': 0.6324376779729565, 'log_max_bin': 10, 'colsample_bytree': 0.907843338450161, 'reg_alpha': 0.0009765625, 'reg_lambda': 0.061090203813273666, 'FLAML_sample_size': 121943}, 'Best Learner': 'lgbm', 'Best Hyper-parameters': {'n_estimators': 4, 'num_leaves': 226, 'min_child_samples': 4, 'learning_rate': 0.6324376779729565, 'log_max_bin': 10, 'colsample_bytree': 0.907843338450161, 'reg_alpha': 0.0009765625, 'reg_lambda': 0.061090203813273666, 'FLAML_sample_size': 121943}}\n",
      "{'Current Learner': 'lgbm', 'Current Sample': 121943, 'Current Hyper-parameters': {'n_estimators': 4, 'num_leaves': 741, 'min_child_samples': 5, 'learning_rate': 0.6010606246535941, 'log_max_bin': 9, 'colsample_bytree': 0.8149439433308638, 'reg_alpha': 0.0009765625, 'reg_lambda': 0.05617458457596572, 'FLAML_sample_size': 121943}, 'Best Learner': 'lgbm', 'Best Hyper-parameters': {'n_estimators': 4, 'num_leaves': 741, 'min_child_samples': 5, 'learning_rate': 0.6010606246535941, 'log_max_bin': 9, 'colsample_bytree': 0.8149439433308638, 'reg_alpha': 0.0009765625, 'reg_lambda': 0.05617458457596572, 'FLAML_sample_size': 121943}}\n",
      "{'Current Learner': 'lgbm', 'Current Sample': 121943, 'Current Hyper-parameters': {'n_estimators': 11, 'num_leaves': 739, 'min_child_samples': 4, 'learning_rate': 0.7018228348338262, 'log_max_bin': 10, 'colsample_bytree': 0.7445594698497943, 'reg_alpha': 0.0009765625, 'reg_lambda': 0.009290923850975847, 'FLAML_sample_size': 121943}, 'Best Learner': 'lgbm', 'Best Hyper-parameters': {'n_estimators': 11, 'num_leaves': 739, 'min_child_samples': 4, 'learning_rate': 0.7018228348338262, 'log_max_bin': 10, 'colsample_bytree': 0.7445594698497943, 'reg_alpha': 0.0009765625, 'reg_lambda': 0.009290923850975847, 'FLAML_sample_size': 121943}}\n",
      "{'Current Learner': 'lgbm', 'Current Sample': 121943, 'Current Hyper-parameters': {'n_estimators': 8, 'num_leaves': 400, 'min_child_samples': 3, 'learning_rate': 0.49054088245364547, 'log_max_bin': 10, 'colsample_bytree': 0.6890192300895405, 'reg_alpha': 0.0009765625, 'reg_lambda': 0.025294858334479715, 'FLAML_sample_size': 121943}, 'Best Learner': 'lgbm', 'Best Hyper-parameters': {'n_estimators': 8, 'num_leaves': 400, 'min_child_samples': 3, 'learning_rate': 0.49054088245364547, 'log_max_bin': 10, 'colsample_bytree': 0.6890192300895405, 'reg_alpha': 0.0009765625, 'reg_lambda': 0.025294858334479715, 'FLAML_sample_size': 121943}}\n",
      "{'Current Learner': 'lgbm', 'Current Sample': 121943, 'Current Hyper-parameters': {'n_estimators': 4, 'num_leaves': 641, 'min_child_samples': 3, 'learning_rate': 1.0, 'log_max_bin': 10, 'colsample_bytree': 0.7238750196200003, 'reg_alpha': 0.0014228412021001027, 'reg_lambda': 0.05752999414389932, 'FLAML_sample_size': 121943}, 'Best Learner': 'lgbm', 'Best Hyper-parameters': {'n_estimators': 4, 'num_leaves': 641, 'min_child_samples': 3, 'learning_rate': 1.0, 'log_max_bin': 10, 'colsample_bytree': 0.7238750196200003, 'reg_alpha': 0.0014228412021001027, 'reg_lambda': 0.05752999414389932, 'FLAML_sample_size': 121943}}\n"
     ]
    }
   ],
   "source": [
    "from flaml.data import get_output_from_log\n",
    "time_history, best_valid_loss_history, valid_loss_history, config_history, metric_history = \\\n",
    "    get_output_from_log(filename=settings['log_file_name'], time_budget=240)\n",
    "for config in config_history:\n",
    "    print(config)"
   ]
  },
  {
   "cell_type": "code",
   "execution_count": 39,
   "metadata": {},
   "outputs": [
    {
     "ename": "ModuleNotFoundError",
     "evalue": "No module named 'matplotlib'",
     "output_type": "error",
     "traceback": [
      "\u001b[1;31m---------------------------------------------------------------------------\u001b[0m",
      "\u001b[1;31mModuleNotFoundError\u001b[0m                       Traceback (most recent call last)",
      "Input \u001b[1;32mIn [39]\u001b[0m, in \u001b[0;36m<cell line: 1>\u001b[1;34m()\u001b[0m\n\u001b[1;32m----> 1\u001b[0m \u001b[38;5;28;01mimport\u001b[39;00m \u001b[38;5;21;01mmatplotlib\u001b[39;00m\u001b[38;5;21;01m.\u001b[39;00m\u001b[38;5;21;01mpyplot\u001b[39;00m \u001b[38;5;28;01mas\u001b[39;00m \u001b[38;5;21;01mplt\u001b[39;00m\n\u001b[0;32m      2\u001b[0m \u001b[38;5;28;01mimport\u001b[39;00m \u001b[38;5;21;01mnumpy\u001b[39;00m \u001b[38;5;28;01mas\u001b[39;00m \u001b[38;5;21;01mnp\u001b[39;00m\n\u001b[0;32m      4\u001b[0m plt\u001b[38;5;241m.\u001b[39mtitle(\u001b[38;5;124m'\u001b[39m\u001b[38;5;124mLearning Curve\u001b[39m\u001b[38;5;124m'\u001b[39m)\n",
      "\u001b[1;31mModuleNotFoundError\u001b[0m: No module named 'matplotlib'"
     ]
    }
   ],
   "source": [
    "import matplotlib.pyplot as plt\n",
    "import numpy as np\n",
    "\n",
    "plt.title('Learning Curve')\n",
    "plt.xlabel('Wall Clock Time (s)')\n",
    "plt.ylabel('Validation Accuracy')\n",
    "plt.scatter(time_history, 1 - np.array(valid_loss_history))\n",
    "plt.step(time_history, 1 - np.array(best_valid_loss_history), where='post')\n",
    "plt.show()"
   ]
  }
 ],
 "metadata": {
  "colab": {
   "name": "Fraud Detection In Electricity and Gas Consumption",
   "provenance": []
  },
  "kernelspec": {
   "display_name": "Python 3 (ipykernel)",
   "language": "python",
   "name": "python3"
  },
  "language_info": {
   "codemirror_mode": {
    "name": "ipython",
    "version": 3
   },
   "file_extension": ".py",
   "mimetype": "text/x-python",
   "name": "python",
   "nbconvert_exporter": "python",
   "pygments_lexer": "ipython3",
   "version": "3.9.12"
  },
  "vscode": {
   "interpreter": {
    "hash": "b09ec625f77bf4fd762565a912b97636504ad6ec901eb2d0f4cf5a7de23e1ee5"
   }
  }
 },
 "nbformat": 4,
 "nbformat_minor": 1
}
